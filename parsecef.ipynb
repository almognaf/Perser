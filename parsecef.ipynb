{
 "cells": [
  {
   "cell_type": "code",
   "execution_count": 1,
   "id": "db32e322-c4cb-40d9-b229-8e2d72007461",
   "metadata": {},
   "outputs": [],
   "source": [
    "import os\n",
    "import sys\n",
    "import xml.etree.ElementTree as ET\n",
    "import json"
   ]
  },
  {
   "cell_type": "code",
   "execution_count": 14,
   "id": "86e6c8e5-a6a7-4ead-bcf1-f6435f3135c0",
   "metadata": {},
   "outputs": [],
   "source": [
    "cef_path = \"/home/gil/Documents/work/RS/datasets/new CEF/39-Set_2-TD_469856-AO-PD-TD#_469856-Medium Control_0-16h_Rep-4c-Exp_0-PA_0-2022-06-15_17-05-52_1_70eV.cef\"\n",
    "\n",
    "print_results = False"
   ]
  },
  {
   "cell_type": "code",
   "execution_count": 36,
   "id": "c53f3f6c-fdb8-4d9f-ba78-0c14cf7aefe5",
   "metadata": {},
   "outputs": [],
   "source": [
    "tree = ET.parse(cef_path)\n",
    "root = tree.getroot()\n",
    "\n",
    "# Loop through each compound\n",
    "for compound in root.iter(\"Compound\"):\n",
    "    # get m, rt, a, y     \n",
    "    loc = compound.find(\"Location\")\n",
    "    location = loc.attrib\n",
    "    \n",
    "    m = float(location[\"m\"])\n",
    "    rt = float(location[\"rt\"])\n",
    "    a = int(location[\"a\"])\n",
    "    y = int(location[\"y\"])\n",
    "    \n",
    "    # get formula, name, probability\n",
    "    mol = compound.find(\"Results/Molecule\")\n",
    "    molecule = mol.attrib\n",
    "    \n",
    "    formula = molecule[\"formula\"]\n",
    "    name = molecule[\"name\"]\n",
    "    probability = molecule[\"probability\"]\n",
    "    \n",
    "    # get CAS ID\n",
    "    acc = mol.find(\"DataBase/Accession\")\n",
    "    accession = acc.attrib\n",
    "    \n",
    "    cas = accession[\"id\"]\n",
    "    \n",
    "    # get spectrum\n",
    "    spec = compound.find(\"Spectrum/MSPeaks\")\n",
    "    x = []\n",
    "    y = []\n",
    "    spec_tuples = [] # spectrum as list of tuples\n",
    "    \n",
    "    for peak in spec.iter(\"p\"):\n",
    "        \n",
    "        x_val = float(peak.attrib[\"x\"])\n",
    "        y_val = float(peak.attrib[\"y\"])\n",
    "        \n",
    "        # spectrum as list\n",
    "        x.append(x_val)\n",
    "        y.append(y_val)       \n",
    "        \n",
    "        # spectrum tuple\n",
    "        spec_tuples.append((x_val,y_val))\n",
    "    \n",
    "    # spectrum arrays for x, y in dict\n",
    "    spec_dict = {\"x\": x, \"y\": y}\n",
    "    \n",
    "    json_dict   = json.dumps(spec_dict)\n",
    "    json_tuples = json.dumps(spec_tuples)\n",
    "    \n",
    "    # print collected compound information\n",
    "    if print_results:\n",
    "        print(f\"m: {m}, rt: {rt}, a: {a}, y: {y}\")\n",
    "        print(f\"{formula}, {name}, cas: {cas} prob: {probability}\")\n",
    "        print(f\"x: {x}, y: {y}\")\n",
    "        print(spec_list)\n"
   ]
  }
 ],
 "metadata": {
  "kernelspec": {
   "display_name": "Python 3 (ipykernel)",
   "language": "python",
   "name": "python3"
  },
  "language_info": {
   "codemirror_mode": {
    "name": "ipython",
    "version": 3
   },
   "file_extension": ".py",
   "mimetype": "text/x-python",
   "name": "python",
   "nbconvert_exporter": "python",
   "pygments_lexer": "ipython3",
   "version": "3.9.6"
  }
 },
 "nbformat": 4,
 "nbformat_minor": 5
}
